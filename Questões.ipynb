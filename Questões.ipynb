{
 "cells": [
  {
   "cell_type": "code",
   "execution_count": 147,
   "metadata": {},
   "outputs": [],
   "source": [
    "import numpy as np\n",
    "from numpy.linalg import inv\n",
    "import copy as copy"
   ]
  },
  {
   "cell_type": "markdown",
   "metadata": {},
   "source": [
    "## Questão 1"
   ]
  },
  {
   "cell_type": "code",
   "execution_count": 168,
   "metadata": {},
   "outputs": [],
   "source": [
    "def Cholesky_Tridiagonal(A):\n",
    "    L = copy.deepcopy(A)\n",
    "    n = len(A)\n",
    "    for i in range(n-1):\n",
    "        L[i][i] = L[i][i]**(1/2)\n",
    "        L[i+1][i] = L[i+1][i]/L[i][i]\n",
    "        L[i+1][i+1] = L[i+1][i+1] - L[i+1][i]**(2)  \n",
    "    L[n][n] = L[n][n]**(1/2)\n",
    "    return L"
   ]
  },
  {
   "cell_type": "code",
   "execution_count": 174,
   "metadata": {},
   "outputs": [
    {
     "name": "stdout",
     "output_type": "stream",
     "text": [
      "0\n",
      "1\n",
      "2\n",
      "3\n"
     ]
    }
   ],
   "source": [
    "A = [[1,2,0,0],[2,1,2,0],[0,2,1,2],[0,0,2,1]]\n",
    "#Cholesky_Tridiagonal(A)"
   ]
  },
  {
   "cell_type": "code",
   "execution_count": 166,
   "metadata": {},
   "outputs": [
    {
     "name": "stdout",
     "output_type": "stream",
     "text": [
      "[[1, 2, 0, 0], [2, 1, 2, 0], [0, 2, 1, 2], [0, 0, 2, 1]]\n",
      "[[1, 2, 0, 0], [2, 10, 2, 0], [0, 2, 1, 2], [0, 0, 2, 1]]\n"
     ]
    }
   ],
   "source": [
    "Cholesky_Tridiagonal(A)"
   ]
  },
  {
   "cell_type": "code",
   "execution_count": null,
   "metadata": {},
   "outputs": [],
   "source": []
  },
  {
   "cell_type": "markdown",
   "metadata": {},
   "source": [
    "## Questão 3"
   ]
  },
  {
   "cell_type": "code",
   "execution_count": 123,
   "metadata": {},
   "outputs": [],
   "source": [
    "def Esp_compl_ortonormal(Beta):\n",
    "    pass"
   ]
  },
  {
   "cell_type": "code",
   "execution_count": null,
   "metadata": {},
   "outputs": [],
   "source": []
  },
  {
   "cell_type": "code",
   "execution_count": null,
   "metadata": {},
   "outputs": [],
   "source": []
  },
  {
   "cell_type": "code",
   "execution_count": null,
   "metadata": {},
   "outputs": [],
   "source": []
  },
  {
   "cell_type": "code",
   "execution_count": null,
   "metadata": {},
   "outputs": [],
   "source": []
  },
  {
   "cell_type": "markdown",
   "metadata": {},
   "source": [
    "## Questão 4"
   ]
  },
  {
   "cell_type": "markdown",
   "metadata": {},
   "source": [
    "### Cálculo da Pseudoinsversa"
   ]
  },
  {
   "cell_type": "code",
   "execution_count": 135,
   "metadata": {},
   "outputs": [
    {
     "name": "stdout",
     "output_type": "stream",
     "text": [
      "[[ 0.125  0.5  ]\n",
      " [-0.75   0.   ]\n",
      " [-1.     0.   ]]\n"
     ]
    }
   ],
   "source": [
    "def Pseudoinverse(A):\n",
    "    return np.dot(inv(np.dot(A.T,A)),A.T)\n",
    "    \n",
    "    \n",
    "A = np.matrix([[1,0],[0,1],[0,1]])\n",
    "B = np.matrix([[2,-1,0],[4,3,-2]])\n",
    "print(Pseudoinverse(B))"
   ]
  },
  {
   "cell_type": "code",
   "execution_count": 140,
   "metadata": {},
   "outputs": [],
   "source": [
    "def VerifyProperties(A):\n",
    "    A_pseudo = Pseudoinverse(A)\n",
    "    cond1 = np.dot(np.dot(A,A_pseudo),A)                # AA+A  == A \n",
    "    cond2 = np.dot(np.dot(A_pseudo,A),A_pseudo)         # A+AA+ == A+\n",
    "    \n",
    "    aux = np.dot(A,A_pseudo)                            # (AA+) == AA+ \n",
    "    cond3 = aux.T\n",
    "    \n",
    "    aux2 = np.dot(A_pseudo,A)\n",
    "    cond4 = aux2.T                                      # (A+A) == A+A\n",
    "    \n",
    "    if np.matrix.all(cond1 == A) and np.matrix.all(cond2 == A_pseudo) and np.matrix.all(cond3 == np.dot(A,A_pseudo)) and np.matrix.all(cond4 == np.dot(A_pseudo,A)):\n",
    "            return True\n",
    "    else:\n",
    "        return False"
   ]
  },
  {
   "cell_type": "code",
   "execution_count": 141,
   "metadata": {},
   "outputs": [
    {
     "data": {
      "text/plain": [
       "False"
      ]
     },
     "execution_count": 141,
     "metadata": {},
     "output_type": "execute_result"
    }
   ],
   "source": [
    "VerifyProperties(B)"
   ]
  },
  {
   "cell_type": "code",
   "execution_count": 122,
   "metadata": {},
   "outputs": [],
   "source": [
    "a = np.matrix([[True,False],[True,True],[True,True]])"
   ]
  },
  {
   "cell_type": "code",
   "execution_count": null,
   "metadata": {},
   "outputs": [],
   "source": []
  }
 ],
 "metadata": {
  "kernelspec": {
   "display_name": "Python 3",
   "language": "python",
   "name": "python3"
  },
  "language_info": {
   "codemirror_mode": {
    "name": "ipython",
    "version": 3
   },
   "file_extension": ".py",
   "mimetype": "text/x-python",
   "name": "python",
   "nbconvert_exporter": "python",
   "pygments_lexer": "ipython3",
   "version": "3.6.6"
  }
 },
 "nbformat": 4,
 "nbformat_minor": 2
}
