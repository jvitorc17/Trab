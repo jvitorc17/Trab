{
 "cells": [
  {
   "cell_type": "markdown",
   "metadata": {},
   "source": [
    "### João Vitor Chaves de Oliveira <br>\n",
    "### Professor Hélio Côrtes Vieira Lopes"
   ]
  },
  {
   "cell_type": "code",
   "execution_count": 336,
   "metadata": {},
   "outputs": [],
   "source": [
    "import numpy as np\n",
    "from numpy.linalg import inv\n",
    "import copy as copy\n",
    "np.set_printoptions(suppress=True)\n",
    "import math"
   ]
  },
  {
   "cell_type": "markdown",
   "metadata": {},
   "source": [
    "## Questão 1 a."
   ]
  },
  {
   "cell_type": "markdown",
   "metadata": {},
   "source": [
    "Seja $A_{a,b,n} \\in \\mathbb{R}^{nxn}$ a matriz tridiagonal dada por:"
   ]
  },
  {
   "cell_type": "markdown",
   "metadata": {},
   "source": [
    "$\n",
    "A = \\left[\n",
    "\\begin{array}{ccccccc}\n",
    "a & b & 0 & ... & 0 & 0 \\\\\n",
    "b & a & b &  0 & \\ddots & \\vdots \\\\\n",
    "0   & b & a & b & \\ddots & \\vdots \\\\\n",
    "\\vdots   & \\ddots & \\ddots & \\ddots & \\ddots & 0 \\\\\n",
    "\\vdots   & \\ddots & 0 & b & a & b \\\\\n",
    "0   & ... & ... & 0 & b & a \\\\\n",
    "\\end{array}\n",
    "\\right]_{nxn}\n",
    "$"
   ]
  },
  {
   "cell_type": "markdown",
   "metadata": {},
   "source": [
    "Faça um algoritmo para obter uma decomposição Cholesky de uma matriz tridiagonal $A_{a,b,n}$, supondo que ela seja definida positiva."
   ]
  },
  {
   "cell_type": "code",
   "execution_count": 494,
   "metadata": {},
   "outputs": [],
   "source": [
    "def is_simetric(matrix):\n",
    "    n = len(matrix)\n",
    "    for i in range(n):\n",
    "        for j in range(i,n):\n",
    "            if i != j :\n",
    "                if matrix[i][j] != matrix[j][i]:\n",
    "                    return False\n",
    "    return True\n",
    "\n",
    "def is_defined_positive(matrix):\n",
    "    eigvalues = np.linalg.eigvals(matrix)\n",
    "    for i in eigvalues:\n",
    "        if(not np.isreal(i)):\n",
    "            return False\n",
    "    return min(eigvalues)>0\n",
    "\n",
    "\n",
    "def Cholesky_Tridiagonal(A):\n",
    "    if is_simetric(A) and is_defined_positive(A):\n",
    "        L = copy.deepcopy(A)\n",
    "        n = len(A)\n",
    "        for i in range(n-1):\n",
    "            L[i][i] = L[i][i]**(1/2)\n",
    "            L[i+1][i] = L[i+1][i]/L[i][i]\n",
    "            L[i+1][i+1] = L[i+1][i+1] - L[i+1][i]**(2)  \n",
    "        L[n-1][n-1] = L[n-1][n-1]**(1/2)\n",
    "        \n",
    "        for i in range(n):\n",
    "            for j in range(i+1,n):\n",
    "                L[i][j] = 0\n",
    "        return L\n",
    "    else:\n",
    "        return \"Não é simétrica ou não é definida positiva\""
   ]
  },
  {
   "cell_type": "markdown",
   "metadata": {},
   "source": [
    "### Exemplos"
   ]
  },
  {
   "cell_type": "code",
   "execution_count": 507,
   "metadata": {},
   "outputs": [],
   "source": [
    "A = [[5,1,0,0],[1,5,1,0],[0,1,5,1],[0,0,1,5]]"
   ]
  },
  {
   "cell_type": "code",
   "execution_count": 508,
   "metadata": {},
   "outputs": [
    {
     "data": {
      "text/plain": [
       "array([[2.23606798, 0.        , 0.        , 0.        ],\n",
       "       [0.4472136 , 2.19089023, 0.        , 0.        ],\n",
       "       [0.        , 0.45643546, 2.18898759, 0.        ],\n",
       "       [0.        , 0.        , 0.45683219, 2.18890483]])"
      ]
     },
     "execution_count": 508,
     "metadata": {},
     "output_type": "execute_result"
    }
   ],
   "source": [
    "r = np.array(Cholesky_Tridiagonal(A))\n",
    "r"
   ]
  },
  {
   "cell_type": "code",
   "execution_count": 510,
   "metadata": {},
   "outputs": [
    {
     "data": {
      "text/plain": [
       "array([[2.23606798, 0.        , 0.        , 0.        ],\n",
       "       [0.4472136 , 2.19089023, 0.        , 0.        ],\n",
       "       [0.        , 0.45643546, 2.18898759, 0.        ],\n",
       "       [0.        , 0.        , 0.45683219, 2.18890483]])"
      ]
     },
     "execution_count": 510,
     "metadata": {},
     "output_type": "execute_result"
    }
   ],
   "source": [
    "np.linalg.cholesky(A)"
   ]
  },
  {
   "cell_type": "code",
   "execution_count": 509,
   "metadata": {},
   "outputs": [
    {
     "data": {
      "text/plain": [
       "array([[5., 1., 0., 0.],\n",
       "       [1., 5., 1., 0.],\n",
       "       [0., 1., 5., 1.],\n",
       "       [0., 0., 1., 5.]])"
      ]
     },
     "execution_count": 509,
     "metadata": {},
     "output_type": "execute_result"
    }
   ],
   "source": [
    "np.dot(r,r.T)"
   ]
  },
  {
   "cell_type": "code",
   "execution_count": 511,
   "metadata": {},
   "outputs": [],
   "source": [
    "B = [[2, 1,0,0,0], [1,2,1,0,0], [0,1,2,1,0],[0,0,1,2,1],[0,0,0,1,2]]"
   ]
  },
  {
   "cell_type": "code",
   "execution_count": 516,
   "metadata": {},
   "outputs": [
    {
     "data": {
      "text/plain": [
       "array([[1.41421356, 0.        , 0.        , 0.        , 0.        ],\n",
       "       [0.70710678, 1.22474487, 0.        , 0.        , 0.        ],\n",
       "       [0.        , 0.81649658, 1.15470054, 0.        , 0.        ],\n",
       "       [0.        , 0.        , 0.8660254 , 1.11803399, 0.        ],\n",
       "       [0.        , 0.        , 0.        , 0.89442719, 1.09544512]])"
      ]
     },
     "execution_count": 516,
     "metadata": {},
     "output_type": "execute_result"
    }
   ],
   "source": [
    "r1 = np.array(Cholesky_Tridiagonal(B))\n",
    "r1"
   ]
  },
  {
   "cell_type": "code",
   "execution_count": 518,
   "metadata": {},
   "outputs": [
    {
     "data": {
      "text/plain": [
       "array([[1.41421356, 0.        , 0.        , 0.        , 0.        ],\n",
       "       [0.70710678, 1.22474487, 0.        , 0.        , 0.        ],\n",
       "       [0.        , 0.81649658, 1.15470054, 0.        , 0.        ],\n",
       "       [0.        , 0.        , 0.8660254 , 1.11803399, 0.        ],\n",
       "       [0.        , 0.        , 0.        , 0.89442719, 1.09544512]])"
      ]
     },
     "execution_count": 518,
     "metadata": {},
     "output_type": "execute_result"
    }
   ],
   "source": [
    "np.linalg.cholesky(B)"
   ]
  },
  {
   "cell_type": "code",
   "execution_count": 519,
   "metadata": {},
   "outputs": [
    {
     "data": {
      "text/plain": [
       "array([[2., 1., 0., 0., 0.],\n",
       "       [1., 2., 1., 0., 0.],\n",
       "       [0., 1., 2., 1., 0.],\n",
       "       [0., 0., 1., 2., 1.],\n",
       "       [0., 0., 0., 1., 2.]])"
      ]
     },
     "execution_count": 519,
     "metadata": {},
     "output_type": "execute_result"
    }
   ],
   "source": [
    "np.dot(r1,r1.T)"
   ]
  },
  {
   "cell_type": "markdown",
   "metadata": {},
   "source": [
    "## Questão 1 b."
   ]
  },
  {
   "cell_type": "markdown",
   "metadata": {},
   "source": [
    "Faça um algoritmo para obter uma decomposição QR de uma matriz tridiagonal $A_{a,b,n}$. Escolha entre Gram-Schmidt, Householder e Givens, a que melhor se aplica nesse contexto."
   ]
  },
  {
   "cell_type": "code",
   "execution_count": 520,
   "metadata": {},
   "outputs": [],
   "source": [
    "def givens(A):\n",
    "    k = 0\n",
    "    n = len(A)\n",
    "    R = copy.deepcopy(A)\n",
    "    Q = np.identity(n)\n",
    "    for i in range(n-1):\n",
    "        a = R[i][i]\n",
    "        b = R[i+1][i]\n",
    "        r = np.sqrt(np.power(a,2) + np.power(b,2))\n",
    "        c = a/float(r)\n",
    "        s = -b/float(r)\n",
    "        Qk = np.identity(n)\n",
    "        Qk[i][i] = c\n",
    "        Qk[i+1][i] = s\n",
    "        Qk[i][i+1] = -s\n",
    "        Qk[i+1][i+1] = c\n",
    "        if(k==0):\n",
    "            k=1\n",
    "            Q = Qk\n",
    "            R = np.matmul(Qk,R)\n",
    "        else:\n",
    "            \n",
    "            Q = np.matmul(Qk,Q)\n",
    "            R = np.matmul(Qk,R)\n",
    "    return R,Q.T"
   ]
  },
  {
   "cell_type": "code",
   "execution_count": 523,
   "metadata": {},
   "outputs": [
    {
     "name": "stdout",
     "output_type": "stream",
     "text": [
      "**********  R  ******************\n",
      "[[4.12310563 1.940285   0.24253563 0.        ]\n",
      " [0.         3.77296887 1.9956199  0.26504327]\n",
      " [0.         0.         3.73613138 1.99968192]\n",
      " [0.         0.         0.         3.59597334]]\n",
      "**********  Q  ******************\n",
      "[[ 0.9701425  -0.23386171  0.06193705 -0.01720561]\n",
      " [ 0.24253563  0.93544683 -0.2477482   0.06882246]\n",
      " [ 0.          0.26504327  0.92905576 -0.25808421]\n",
      " [ 0.          0.          0.26765654  0.96351439]]\n",
      "**********  QR  ******************\n",
      "[[ 4.  1. -0. -0.]\n",
      " [ 1.  4.  1.  0.]\n",
      " [ 0.  1.  4.  1.]\n",
      " [ 0.  0.  1.  4.]]\n"
     ]
    }
   ],
   "source": [
    "# Matriz B = [[2, 1,0,0,0], [1,2,1,0,0], [0,1,2,1,0],[0,0,1,2,1],[0,0,0,1,2]]\n",
    "R,Q = givens(B)\n",
    "print(\"**********  R  ******************\")\n",
    "print(R)\n",
    "print(\"**********  Q  ******************\")\n",
    "print(Q)\n",
    "print(\"**********  QR  ******************\")\n",
    "print(np.dot(Q,R))"
   ]
  },
  {
   "cell_type": "markdown",
   "metadata": {},
   "source": [
    "## Questão 3"
   ]
  },
  {
   "cell_type": "markdown",
   "metadata": {},
   "source": [
    "Determine uma base ortonormal para o espaço complementar ortogonal ao vetor $v = [1,-1,1] \\in \\mathbb{R}^{3}.$"
   ]
  },
  {
   "cell_type": "code",
   "execution_count": 524,
   "metadata": {},
   "outputs": [],
   "source": [
    "def show(v):\n",
    "    k = 1\n",
    "    for i in v:\n",
    "        print(\"Norma do vetor w{} : {}\".format(k,np.linalg.norm(i)))\n",
    "        print(\"\")\n",
    "        k+=1\n",
    "\n",
    "def norma(v):\n",
    "    return np.sqrt(v[0]**2+v[1]**2+v[2]**2)\n",
    "\n",
    "    \n",
    "def ComplementoOrtonormal(v):\n",
    "    x,y,z = v\n",
    "\n",
    "    if x == 0 and y == 0 and z == 0:\n",
    "        return [1,0,0],[0,1,0],[0,0,1]\n",
    "    \n",
    "    elif x != 0:\n",
    "        v1 = np.array([-z/x,0,1])\n",
    "        v2 = np.array([-y/x,1,0])\n",
    "        w1 = v1\n",
    "        w1v2 = np.dot(w1,v2)\n",
    "        w1w1 = (w1[0]**2+w1[1]**2+w1[2]**2)\n",
    "        w2 = v2 - (w1v2/w1w1)*w1\n",
    "    \n",
    "        nw1 = np.linalg.norm(w1)\n",
    "        nw2 = np.linalg.norm(w2)\n",
    "        return w1/nw1,w2/nw2\n",
    "        \n",
    "    \n",
    "    elif y !=0:\n",
    "        v1 = np.array([1,-x/y,0])\n",
    "        v2 = np.array([0,-z/y,1])\n",
    "        w1 = v1\n",
    "        w1v2 = np.dot(w1,v2)\n",
    "        w1w1 = (w1[0]**2+w1[1]**2+w1[2]**2)\n",
    "        w2 = v2 - (w1v2/w1w1)*w1\n",
    "    \n",
    "        nw1 = np.linalg.norm(w1)\n",
    "        nw2 = np.linalg.norm(w2)\n",
    "        return w1/nw1,w2/nw2\n",
    "        \n",
    "        \n",
    "    elif z != 0:\n",
    "        v1 = np.array([1,0,x/z])\n",
    "        v2 = np.array([0,1,-y/z])\n",
    "        w1 = v1\n",
    "        w1v2 = np.dot(w1,v2)\n",
    "        w1w1 = (w1[0]**2+w1[1]**2+w1[2]**2)\n",
    "        w2 = v2 - (w1v2/w1w1)*w1\n",
    "    \n",
    "        nw1 = np.linalg.norm(w1)\n",
    "        nw2 = np.linalg.norm(w2)\n",
    "        return w1/norma(w1),w2/norma(w2)\n"
   ]
  },
  {
   "cell_type": "code",
   "execution_count": 525,
   "metadata": {
    "scrolled": true
   },
   "outputs": [],
   "source": [
    "v = np.array([1,-1,1])\n",
    "v1 = np.array([1,0,0])\n",
    "v2 = np.array([0,1,0])\n",
    "v3 = np.array([0,0,1])\n",
    "v4 = np.array([0,0,0])"
   ]
  },
  {
   "cell_type": "markdown",
   "metadata": {},
   "source": [
    "Questão descrita na prova:"
   ]
  },
  {
   "cell_type": "code",
   "execution_count": 526,
   "metadata": {},
   "outputs": [
    {
     "name": "stdout",
     "output_type": "stream",
     "text": [
      "Complemento: (array([-0.70710678,  0.        ,  0.70710678]), array([0.40824829, 0.81649658, 0.40824829])) \n",
      "\n",
      "Norma do vetor w1 : 0.9999999999999999\n",
      "\n",
      "Norma do vetor w2 : 1.0\n",
      "\n"
     ]
    }
   ],
   "source": [
    "print(\"Complemento: {} \\n\".format(ComplementoOrtonormal(v)))\n",
    "show(ComplementoOrtonormal(v))"
   ]
  },
  {
   "cell_type": "markdown",
   "metadata": {},
   "source": [
    "Outros exemplos:"
   ]
  },
  {
   "cell_type": "code",
   "execution_count": 527,
   "metadata": {},
   "outputs": [
    {
     "name": "stdout",
     "output_type": "stream",
     "text": [
      "Complemento: (array([0., 0., 1.]), array([0., 1., 0.])) \n",
      "\n",
      "Norma do vetor w1 : 1.0\n",
      "\n",
      "Norma do vetor w2 : 1.0\n",
      "\n"
     ]
    }
   ],
   "source": [
    "print(\"Complemento: {} \\n\".format(ComplementoOrtonormal(v1)))\n",
    "show(ComplementoOrtonormal(v1))"
   ]
  },
  {
   "cell_type": "code",
   "execution_count": 528,
   "metadata": {},
   "outputs": [
    {
     "name": "stdout",
     "output_type": "stream",
     "text": [
      "Complemento: (array([1., 0., 0.]), array([0., 0., 1.])) \n",
      "\n",
      "Norma do vetor w1 : 1.0\n",
      "\n",
      "Norma do vetor w2 : 1.0\n",
      "\n"
     ]
    }
   ],
   "source": [
    "print(\"Complemento: {} \\n\".format(ComplementoOrtonormal(v2)))\n",
    "show(ComplementoOrtonormal(v2))"
   ]
  },
  {
   "cell_type": "code",
   "execution_count": 529,
   "metadata": {
    "scrolled": true
   },
   "outputs": [
    {
     "name": "stdout",
     "output_type": "stream",
     "text": [
      "Complemento: (array([1., 0., 0.]), array([0., 1., 0.])) \n",
      "\n",
      "Norma do vetor w1 : 1.0\n",
      "\n",
      "Norma do vetor w2 : 1.0\n",
      "\n"
     ]
    }
   ],
   "source": [
    "print(\"Complemento: {} \\n\".format(ComplementoOrtonormal(v3)))\n",
    "show(ComplementoOrtonormal(v3))"
   ]
  },
  {
   "cell_type": "code",
   "execution_count": 530,
   "metadata": {},
   "outputs": [
    {
     "name": "stdout",
     "output_type": "stream",
     "text": [
      "Complemento: ([1, 0, 0], [0, 1, 0], [0, 0, 1]) \n",
      "\n",
      "Norma do vetor w1 : 1.0\n",
      "\n",
      "Norma do vetor w2 : 1.0\n",
      "\n",
      "Norma do vetor w3 : 1.0\n",
      "\n"
     ]
    }
   ],
   "source": [
    "print(\"Complemento: {} \\n\".format(ComplementoOrtonormal(v4)))\n",
    "show(ComplementoOrtonormal(v4))"
   ]
  },
  {
   "cell_type": "markdown",
   "metadata": {},
   "source": [
    "## Questão 4"
   ]
  },
  {
   "cell_type": "markdown",
   "metadata": {},
   "source": [
    "Suponha que uma matriz $A \\in \\mathbb{R}^{mxn}$ tenha posto máximo. A pseudoinversa, ou inversa de Moore-Penrose, de $A$ é a matriz $A^{+} \\in \\mathbb{R}^{nxm}$ que satisfaz:"
   ]
  },
  {
   "cell_type": "markdown",
   "metadata": {},
   "source": [
    "<ul>\n",
    "  <li>$AA^{+}A = A$</li>\n",
    "  <li>$A^{+}AA^{+} = A^{+}$</li>\n",
    "  <li>$(AA^{+})^{T} = AA^{+}$</li>\n",
    "  <li>$(A^{+}A)^{T} = A^{+}A$</li>\n",
    "</ul>"
   ]
  },
  {
   "cell_type": "markdown",
   "metadata": {},
   "source": [
    "Calcule a pseudoinversa de"
   ]
  },
  {
   "cell_type": "markdown",
   "metadata": {},
   "source": [
    "$\n",
    "A = \\left[\n",
    "\\begin{array}{cc}\n",
    "1 & 0 \\\\\n",
    "0 & 1 \\\\\n",
    "0 & 1\\\\\n",
    "\\end{array}\n",
    "\\right]\n",
    "$"
   ]
  },
  {
   "cell_type": "code",
   "execution_count": null,
   "metadata": {},
   "outputs": [],
   "source": [
    "def VerifyProperties(A):\n",
    "    A_pseudo = Pseudoinverse(A)\n",
    "    cond1 = np.dot(np.dot(A,A_pseudo),A)                # AA+A  == A \n",
    "    cond2 = np.dot(np.dot(A_pseudo,A),A_pseudo)         # A+AA+ == A+\n",
    "    \n",
    "    aux = np.dot(A,A_pseudo)                            # (AA+) == AA+ \n",
    "    cond3 = aux.T\n",
    "    \n",
    "    aux2 = np.dot(A_pseudo,A)\n",
    "    cond4 = aux2.T                                      # (A+A) == A+A\n",
    "    \n",
    "    if np.matrix.all(cond1 == A):\n",
    "        if np.matrix.all(cond2 == A_pseudo):\n",
    "            if np.matrix.all(cond3 == np.dot(A,A_pseudo)):\n",
    "                if np.matrix.all(cond4 == np.dot(A_pseudo,A)):\n",
    "                    return True\n",
    "                else:\n",
    "                    print(\"Parou na condição 4\")\n",
    "                    return False\n",
    "            else:\n",
    "                print(\"Parou na condição 3\")\n",
    "                return False\n",
    "        else:\n",
    "            print(\"Parou na condição 2\")\n",
    "            return False\n",
    "    else:\n",
    "        print(\"Parou na condição 1\")\n",
    "        return False"
   ]
  },
  {
   "cell_type": "code",
   "execution_count": 561,
   "metadata": {},
   "outputs": [],
   "source": [
    "def Pseudoinverse(A):\n",
    "    At = np.transpose(A)\n",
    "    AtA = np.dot(At,A)\n",
    "    AtA_inv = np.linalg.inv(AtA)\n",
    "    Pi = np.dot(AtA_inv,At)\n",
    "    return Pi"
   ]
  },
  {
   "cell_type": "markdown",
   "metadata": {},
   "source": [
    "Questão da prova"
   ]
  },
  {
   "cell_type": "code",
   "execution_count": 562,
   "metadata": {},
   "outputs": [],
   "source": [
    "D = np.matrix([[1,0],[0,1],[0,1]])"
   ]
  },
  {
   "cell_type": "code",
   "execution_count": 563,
   "metadata": {},
   "outputs": [
    {
     "name": "stdout",
     "output_type": "stream",
     "text": [
      "[[1.  0.  0. ]\n",
      " [0.  0.5 0.5]]\n"
     ]
    }
   ],
   "source": [
    "print(Pseudoinverse(D))"
   ]
  },
  {
   "cell_type": "code",
   "execution_count": 564,
   "metadata": {},
   "outputs": [
    {
     "name": "stdout",
     "output_type": "stream",
     "text": [
      "[[1.  0.  0. ]\n",
      " [0.  0.5 0.5]]\n"
     ]
    }
   ],
   "source": [
    "print(np.linalg.pinv(D))"
   ]
  },
  {
   "cell_type": "markdown",
   "metadata": {},
   "source": [
    "Outro exemplo:"
   ]
  },
  {
   "cell_type": "code",
   "execution_count": 565,
   "metadata": {},
   "outputs": [
    {
     "data": {
      "text/plain": [
       "matrix([[ 2.,  1., -1.],\n",
       "        [ 0.,  2.,  0.],\n",
       "        [ 0.,  0.,  0.]])"
      ]
     },
     "execution_count": 565,
     "metadata": {},
     "output_type": "execute_result"
    }
   ],
   "source": [
    "E = np.matrix([[2,-1,0],[4,3,-2]])\n",
    "\n",
    "x = np.dot(E.T,E)\n",
    "c = np.linalg.inv(x)\n",
    "np.dot(c,x)"
   ]
  },
  {
   "cell_type": "code",
   "execution_count": 549,
   "metadata": {},
   "outputs": [
    {
     "name": "stdout",
     "output_type": "stream",
     "text": [
      "[[ 0.125  0.5  ]\n",
      " [-0.75   0.   ]\n",
      " [-1.     0.   ]]\n"
     ]
    }
   ],
   "source": [
    "print(Pseudoinverse(E))"
   ]
  },
  {
   "cell_type": "code",
   "execution_count": 550,
   "metadata": {},
   "outputs": [
    {
     "name": "stdout",
     "output_type": "stream",
     "text": [
      "[[ 0.31666667  0.08333333]\n",
      " [-0.36666667  0.16666667]\n",
      " [ 0.08333333 -0.08333333]]\n"
     ]
    }
   ],
   "source": [
    "print(np.linalg.pinv(E))"
   ]
  },
  {
   "cell_type": "code",
   "execution_count": 541,
   "metadata": {},
   "outputs": [
    {
     "name": "stdout",
     "output_type": "stream",
     "text": [
      "[[7 2]\n",
      " [3 4]\n",
      " [5 3]]\n"
     ]
    }
   ],
   "source": [
    "C = np.matrix([[7,2],[3,4],[5,3]])\n",
    "print(C)"
   ]
  },
  {
   "cell_type": "code",
   "execution_count": 543,
   "metadata": {},
   "outputs": [
    {
     "name": "stdout",
     "output_type": "stream",
     "text": [
      "[[ 0.16666667 -0.10606061  0.03030303]\n",
      " [-0.16666667  0.28787879  0.06060606]]\n"
     ]
    }
   ],
   "source": [
    "print(Pseudoinverse(C))"
   ]
  },
  {
   "cell_type": "code",
   "execution_count": 544,
   "metadata": {},
   "outputs": [
    {
     "name": "stdout",
     "output_type": "stream",
     "text": [
      "[[ 0.16666667 -0.10606061  0.03030303]\n",
      " [-0.16666667  0.28787879  0.06060606]]\n"
     ]
    }
   ],
   "source": [
    "print(np.linalg.pinv(C))"
   ]
  }
 ],
 "metadata": {
  "kernelspec": {
   "display_name": "Python 3",
   "language": "python",
   "name": "python3"
  },
  "language_info": {
   "codemirror_mode": {
    "name": "ipython",
    "version": 3
   },
   "file_extension": ".py",
   "mimetype": "text/x-python",
   "name": "python",
   "nbconvert_exporter": "python",
   "pygments_lexer": "ipython3",
   "version": "3.6.6"
  }
 },
 "nbformat": 4,
 "nbformat_minor": 2
}
