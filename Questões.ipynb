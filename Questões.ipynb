{
 "cells": [
  {
   "cell_type": "code",
   "execution_count": 1,
   "metadata": {},
   "outputs": [],
   "source": [
    "import numpy as np\n",
    "from numpy.linalg import inv\n",
    "import copy as copy"
   ]
  },
  {
   "cell_type": "markdown",
   "metadata": {},
   "source": [
    "## Questão 1 a."
   ]
  },
  {
   "cell_type": "markdown",
   "metadata": {},
   "source": [
    "Seja $A_{a,b,n} \\in \\mathbb{R}^{nxn}$ a matriz tridiagonal dada por:"
   ]
  },
  {
   "cell_type": "markdown",
   "metadata": {},
   "source": [
    "$\n",
    "A = \\left[\n",
    "\\begin{array}{ccccccc}\n",
    "a & b & 0 & ... & 0 & 0 \\\\\n",
    "b & a & b &  0 & \\ddots & \\vdots \\\\\n",
    "0   & b & a & b & \\ddots & \\vdots \\\\\n",
    "\\vdots   & \\ddots & \\ddots & \\ddots & \\ddots & 0 \\\\\n",
    "\\vdots   & \\ddots & 0 & b & a & b \\\\\n",
    "0   & ... & ... & 0 & b & a \\\\\n",
    "\\end{array}\n",
    "\\right]_{nxn}\n",
    "$"
   ]
  },
  {
   "cell_type": "markdown",
   "metadata": {},
   "source": [
    "Faça um algoritmo para obter uma decomposição Cholesky de uma matriz tridiagonal $A_{a,b,n}$, supondo que ela seja definida positiva."
   ]
  },
  {
   "cell_type": "code",
   "execution_count": 81,
   "metadata": {},
   "outputs": [],
   "source": [
    "def is_simetric(matrix):\n",
    "    n = len(matrix)\n",
    "    for i in range(n):\n",
    "        for j in range(i,n):\n",
    "            if i != j :\n",
    "                if matrix[i][j] != matrix[j][i]:\n",
    "                    return False\n",
    "    return True\n",
    "\n",
    "def is_defined_positive(matrix):\n",
    "    eigvalues = np.linalg.eigvals(matrix)\n",
    "    for i in eigvalues:\n",
    "        if(not np.isreal(i)):\n",
    "            return False\n",
    "    return min(eigvalues)>0\n",
    "\n",
    "\n",
    "def Cholesky_Tridiagonal(A):\n",
    "    if is_simetric(A) and is_defined_positive(A):\n",
    "        \n",
    "        L = copy.deepcopy(A)\n",
    "        n = len(A)\n",
    "        for i in range(n-1):\n",
    "            L[i][i] = L[i][i]**(1/2)\n",
    "            L[i+1][i] = L[i+1][i]/L[i][i]\n",
    "            L[i+1][i+1] = L[i+1][i+1] - L[i+1][i]**(2)  \n",
    "        L[n-1][n-1] = L[n-1][n-1]**(1/2)\n",
    "        return L\n",
    "    else:\n",
    "        return \"Não é simétrica ou definida positiva\""
   ]
  },
  {
   "cell_type": "code",
   "execution_count": 82,
   "metadata": {},
   "outputs": [],
   "source": [
    "A = [[5,1,0,0],[1,5,1,0],[0,1,5,1],[0,0,1,5]]"
   ]
  },
  {
   "cell_type": "code",
   "execution_count": 46,
   "metadata": {},
   "outputs": [
    {
     "data": {
      "text/plain": [
       "[[2.23606797749979, 1, 0, 0],\n",
       " [0.4472135954999579, 2.1908902300206643, 1, 0],\n",
       " [0, 0.45643546458763845, 2.188987589427283, 1],\n",
       " [0, 0, 0.45683219257612856, 2.188904828407596]]"
      ]
     },
     "execution_count": 46,
     "metadata": {},
     "output_type": "execute_result"
    }
   ],
   "source": [
    "Cholesky_Tridiagonal(A)"
   ]
  },
  {
   "cell_type": "code",
   "execution_count": 47,
   "metadata": {},
   "outputs": [
    {
     "data": {
      "text/plain": [
       "array([[2.23606798, 0.        , 0.        , 0.        ],\n",
       "       [0.4472136 , 2.19089023, 0.        , 0.        ],\n",
       "       [0.        , 0.45643546, 2.18898759, 0.        ],\n",
       "       [0.        , 0.        , 0.45683219, 2.18890483]])"
      ]
     },
     "execution_count": 47,
     "metadata": {},
     "output_type": "execute_result"
    }
   ],
   "source": [
    "np.linalg.cholesky(A)"
   ]
  },
  {
   "cell_type": "markdown",
   "metadata": {},
   "source": [
    "## Questão 1 b."
   ]
  },
  {
   "cell_type": "markdown",
   "metadata": {},
   "source": [
    "Faça um algoritmo para obter uma decomposição QR de uma matriz tridiagonal $A_{a,b,n}$. Escolha entre Gram-Schmidt, Householder e Givens, a que melhor se aplica nesse contexto."
   ]
  },
  {
   "cell_type": "code",
   "execution_count": 78,
   "metadata": {},
   "outputs": [],
   "source": [
    "def givens(A):\n",
    "    n = len(A)\n",
    "    R = copy.deepcopy(A)\n",
    "    Q = np.identity(n)\n",
    "    for i in range(n-1):\n",
    "        a = R[i][i]\n",
    "        b = R[i+1][i]\n",
    "        r = np.sqrt(a*a + b*b)\n",
    "        c = a/r\n",
    "        s = -b/r\n",
    "        I = np.identity(n)\n",
    "        I[i][i] = c\n",
    "        I[i+1][i] = s\n",
    "        I[i][i+1] = -s\n",
    "        I[i+1][i+1] = c\n",
    "        R = np.dot(I,R)\n",
    "    return R"
   ]
  },
  {
   "cell_type": "code",
   "execution_count": 79,
   "metadata": {},
   "outputs": [
    {
     "name": "stdout",
     "output_type": "stream",
     "text": [
      "**********  R  ******************\n",
      "[[5.09901951 1.96116135 0.19611614 0.        ]\n",
      " [0.         4.81184436 1.99827424 0.20782052]\n",
      " [0.         0.         4.79253988 1.99992443]\n",
      " [0.         0.         0.         4.68584175]]\n"
     ]
    }
   ],
   "source": [
    "R = givens(A)\n",
    "print(\"**********  R  ******************\")\n",
    "print(R)"
   ]
  },
  {
   "cell_type": "code",
   "execution_count": 80,
   "metadata": {},
   "outputs": [
    {
     "data": {
      "text/plain": [
       "array([[-5.09901951, -1.96116135, -0.19611614,  0.        ],\n",
       "       [ 0.        , -4.81184436, -1.99827424, -0.20782052],\n",
       "       [ 0.        ,  0.        , -4.79253988, -1.99992443],\n",
       "       [ 0.        ,  0.        ,  0.        ,  4.68584175]])"
      ]
     },
     "execution_count": 80,
     "metadata": {},
     "output_type": "execute_result"
    }
   ],
   "source": [
    "np.linalg.qr(A)[1]"
   ]
  },
  {
   "cell_type": "markdown",
   "metadata": {},
   "source": [
    "## Questão 3"
   ]
  },
  {
   "cell_type": "markdown",
   "metadata": {},
   "source": [
    "Determine uma base ortonormal para o espaço complementar ortogonal ao vetor $v = [1,-1,1] \\in \\mathbb{R}^{3}.$"
   ]
  },
  {
   "cell_type": "code",
   "execution_count": null,
   "metadata": {},
   "outputs": [],
   "source": []
  },
  {
   "cell_type": "code",
   "execution_count": null,
   "metadata": {},
   "outputs": [],
   "source": []
  },
  {
   "cell_type": "code",
   "execution_count": null,
   "metadata": {},
   "outputs": [],
   "source": []
  },
  {
   "cell_type": "code",
   "execution_count": null,
   "metadata": {},
   "outputs": [],
   "source": []
  },
  {
   "cell_type": "code",
   "execution_count": null,
   "metadata": {},
   "outputs": [],
   "source": []
  },
  {
   "cell_type": "markdown",
   "metadata": {},
   "source": [
    "## Questão 4"
   ]
  },
  {
   "cell_type": "markdown",
   "metadata": {},
   "source": [
    "Suponha que uma matriz $A \\in \\mathbb{R}^{mxn}$ tenha posto máximo. A pseudoinversa, ou inversa de Moore-Penrose, de $A$ é a matriz $A^{+} \\in \\mathbb{R}^{nxm}$ que satisfaz:"
   ]
  },
  {
   "cell_type": "markdown",
   "metadata": {},
   "source": [
    "<ul>\n",
    "  <li>$AA^{+}A = A$</li>\n",
    "  <li>$A^{+}AA^{+} = A^{+}$</li>\n",
    "  <li>$(AA^{+})^{T} = AA^{+}$</li>\n",
    "  <li>$(A^{+}A)^{T} = A^{+}A$</li>\n",
    "</ul>"
   ]
  },
  {
   "cell_type": "markdown",
   "metadata": {},
   "source": [
    "Calcule a pseudoinversa de"
   ]
  },
  {
   "cell_type": "code",
   "execution_count": null,
   "metadata": {},
   "outputs": [],
   "source": []
  },
  {
   "cell_type": "code",
   "execution_count": 6,
   "metadata": {},
   "outputs": [],
   "source": [
    "def VerifyProperties(A):\n",
    "    A_pseudo = Pseudoinverse(A)\n",
    "    cond1 = np.dot(np.dot(A,A_pseudo),A)                # AA+A  == A \n",
    "    cond2 = np.dot(np.dot(A_pseudo,A),A_pseudo)         # A+AA+ == A+\n",
    "    \n",
    "    aux = np.dot(A,A_pseudo)                            # (AA+) == AA+ \n",
    "    cond3 = aux.T\n",
    "    \n",
    "    aux2 = np.dot(A_pseudo,A)\n",
    "    cond4 = aux2.T                                      # (A+A) == A+A\n",
    "    \n",
    "    if np.matrix.all(cond1 == A) and np.matrix.all(cond2 == A_pseudo) and np.matrix.all(cond3 == np.dot(A,A_pseudo)) and np.matrix.all(cond4 == np.dot(A_pseudo,A)):\n",
    "            return True\n",
    "    else:\n",
    "        return False"
   ]
  },
  {
   "cell_type": "code",
   "execution_count": 5,
   "metadata": {},
   "outputs": [
    {
     "name": "stdout",
     "output_type": "stream",
     "text": [
      "[[ 0.125  0.5  ]\n",
      " [-0.75   0.   ]\n",
      " [-1.     0.   ]]\n"
     ]
    }
   ],
   "source": [
    "def Pseudoinverse(A):\n",
    "    return np.dot(inv(np.dot(A.T,A)),A.T)\n",
    "    \n",
    "    \n",
    "A = np.matrix([[1,0],[0,1],[0,1]])\n",
    "B = np.matrix([[2,-1,0],[4,3,-2]])\n",
    "print(Pseudoinverse(B))"
   ]
  },
  {
   "cell_type": "code",
   "execution_count": 7,
   "metadata": {},
   "outputs": [
    {
     "data": {
      "text/plain": [
       "False"
      ]
     },
     "execution_count": 7,
     "metadata": {},
     "output_type": "execute_result"
    }
   ],
   "source": [
    "VerifyProperties(B)"
   ]
  },
  {
   "cell_type": "code",
   "execution_count": 8,
   "metadata": {},
   "outputs": [],
   "source": [
    "a = np.matrix([[True,False],[True,True],[True,True]])"
   ]
  },
  {
   "cell_type": "code",
   "execution_count": null,
   "metadata": {},
   "outputs": [],
   "source": []
  },
  {
   "cell_type": "code",
   "execution_count": null,
   "metadata": {},
   "outputs": [],
   "source": []
  },
  {
   "cell_type": "code",
   "execution_count": null,
   "metadata": {},
   "outputs": [],
   "source": []
  }
 ],
 "metadata": {
  "kernelspec": {
   "display_name": "Python 3",
   "language": "python",
   "name": "python3"
  },
  "language_info": {
   "codemirror_mode": {
    "name": "ipython",
    "version": 3
   },
   "file_extension": ".py",
   "mimetype": "text/x-python",
   "name": "python",
   "nbconvert_exporter": "python",
   "pygments_lexer": "ipython3",
   "version": "3.6.5"
  }
 },
 "nbformat": 4,
 "nbformat_minor": 2
}
