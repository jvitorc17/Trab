{
 "cells": [
  {
   "cell_type": "markdown",
   "metadata": {},
   "source": [
    "### João Vitor Chaves de Oliveira <br>\n",
    "### Professor Hélio Cortes"
   ]
  },
  {
   "cell_type": "code",
   "execution_count": 140,
   "metadata": {},
   "outputs": [],
   "source": [
    "import numpy as np\n",
    "from numpy.linalg import inv\n",
    "import copy as copy\n",
    "np.set_printoptions(suppress=True)\n",
    "import math"
   ]
  },
  {
   "cell_type": "markdown",
   "metadata": {},
   "source": [
    "## Questão 1 a."
   ]
  },
  {
   "cell_type": "markdown",
   "metadata": {},
   "source": [
    "Seja $A_{a,b,n} \\in \\mathbb{R}^{nxn}$ a matriz tridiagonal dada por:"
   ]
  },
  {
   "cell_type": "markdown",
   "metadata": {},
   "source": [
    "$\n",
    "A = \\left[\n",
    "\\begin{array}{ccccccc}\n",
    "a & b & 0 & ... & 0 & 0 \\\\\n",
    "b & a & b &  0 & \\ddots & \\vdots \\\\\n",
    "0   & b & a & b & \\ddots & \\vdots \\\\\n",
    "\\vdots   & \\ddots & \\ddots & \\ddots & \\ddots & 0 \\\\\n",
    "\\vdots   & \\ddots & 0 & b & a & b \\\\\n",
    "0   & ... & ... & 0 & b & a \\\\\n",
    "\\end{array}\n",
    "\\right]_{nxn}\n",
    "$"
   ]
  },
  {
   "cell_type": "markdown",
   "metadata": {},
   "source": [
    "Faça um algoritmo para obter uma decomposição Cholesky de uma matriz tridiagonal $A_{a,b,n}$, supondo que ela seja definida positiva."
   ]
  },
  {
   "cell_type": "code",
   "execution_count": 141,
   "metadata": {},
   "outputs": [],
   "source": [
    "def is_simetric(matrix):\n",
    "    n = len(matrix)\n",
    "    for i in range(n):\n",
    "        for j in range(i,n):\n",
    "            if i != j :\n",
    "                if matrix[i][j] != matrix[j][i]:\n",
    "                    return False\n",
    "    return True\n",
    "\n",
    "def is_defined_positive(matrix):\n",
    "    eigvalues = np.linalg.eigvals(matrix)\n",
    "    for i in eigvalues:\n",
    "        if(not np.isreal(i)):\n",
    "            return False\n",
    "    return min(eigvalues)>0\n",
    "\n",
    "\n",
    "def Cholesky_Tridiagonal(A):\n",
    "    if is_simetric(A) and is_defined_positive(A):\n",
    "        \n",
    "        L = copy.deepcopy(A)\n",
    "        n = len(A)\n",
    "        for i in range(n-1):\n",
    "            L[i][i] = L[i][i]**(1/2)\n",
    "            L[i+1][i] = L[i+1][i]/L[i][i]\n",
    "            L[i+1][i+1] = L[i+1][i+1] - L[i+1][i]**(2)  \n",
    "        L[n-1][n-1] = L[n-1][n-1]**(1/2)\n",
    "        \n",
    "        for i in range(n):\n",
    "            for j in range(i+1,n):\n",
    "                L[i][j] = 0\n",
    "        return L\n",
    "    else:\n",
    "        return \"Não é simétrica ou não é definida positiva\""
   ]
  },
  {
   "cell_type": "code",
   "execution_count": 142,
   "metadata": {},
   "outputs": [],
   "source": [
    "A = [[5,1,0,0],[1,5,1,0],[0,1,5,1],[0,0,1,5]]\n",
    "B = [[2, 1,0,0,0], [1,2,1,0,0], [0,1,2,1,0],[0,0,1,2,1],[0,0,0,1,2]]"
   ]
  },
  {
   "cell_type": "code",
   "execution_count": 143,
   "metadata": {},
   "outputs": [
    {
     "data": {
      "text/plain": [
       "[[2.23606797749979, 0, 0, 0],\n",
       " [0.4472135954999579, 2.1908902300206643, 0, 0],\n",
       " [0, 0.45643546458763845, 2.188987589427283, 0],\n",
       " [0, 0, 0.45683219257612856, 2.188904828407596]]"
      ]
     },
     "execution_count": 143,
     "metadata": {},
     "output_type": "execute_result"
    }
   ],
   "source": [
    "Cholesky_Tridiagonal(A)"
   ]
  },
  {
   "cell_type": "code",
   "execution_count": 144,
   "metadata": {},
   "outputs": [
    {
     "data": {
      "text/plain": [
       "array([[2.23606798, 0.        , 0.        , 0.        ],\n",
       "       [0.4472136 , 2.19089023, 0.        , 0.        ],\n",
       "       [0.        , 0.45643546, 2.18898759, 0.        ],\n",
       "       [0.        , 0.        , 0.45683219, 2.18890483]])"
      ]
     },
     "execution_count": 144,
     "metadata": {},
     "output_type": "execute_result"
    }
   ],
   "source": [
    "np.linalg.cholesky(A)"
   ]
  },
  {
   "cell_type": "code",
   "execution_count": 145,
   "metadata": {},
   "outputs": [
    {
     "data": {
      "text/plain": [
       "[[1.4142135623730951, 0, 0, 0, 0],\n",
       " [0.7071067811865475, 1.224744871391589, 0, 0, 0],\n",
       " [0, 0.8164965809277261, 1.1547005383792515, 0, 0],\n",
       " [0, 0, 0.8660254037844387, 1.118033988749895, 0],\n",
       " [0, 0, 0, 0.8944271909999159, 1.0954451150103324]]"
      ]
     },
     "execution_count": 145,
     "metadata": {},
     "output_type": "execute_result"
    }
   ],
   "source": [
    "Cholesky_Tridiagonal(B)"
   ]
  },
  {
   "cell_type": "code",
   "execution_count": 146,
   "metadata": {},
   "outputs": [
    {
     "data": {
      "text/plain": [
       "array([[1.41421356, 0.        , 0.        , 0.        , 0.        ],\n",
       "       [0.70710678, 1.22474487, 0.        , 0.        , 0.        ],\n",
       "       [0.        , 0.81649658, 1.15470054, 0.        , 0.        ],\n",
       "       [0.        , 0.        , 0.8660254 , 1.11803399, 0.        ],\n",
       "       [0.        , 0.        , 0.        , 0.89442719, 1.09544512]])"
      ]
     },
     "execution_count": 146,
     "metadata": {},
     "output_type": "execute_result"
    }
   ],
   "source": [
    "np.linalg.cholesky(B)"
   ]
  },
  {
   "cell_type": "markdown",
   "metadata": {},
   "source": [
    "## Questão 1 b."
   ]
  },
  {
   "cell_type": "markdown",
   "metadata": {},
   "source": [
    "Faça um algoritmo para obter uma decomposição QR de uma matriz tridiagonal $A_{a,b,n}$. Escolha entre Gram-Schmidt, Householder e Givens, a que melhor se aplica nesse contexto."
   ]
  },
  {
   "cell_type": "code",
   "execution_count": 147,
   "metadata": {},
   "outputs": [],
   "source": [
    "def givens(A):\n",
    "    k = 0\n",
    "    n = len(A)\n",
    "    R = copy.deepcopy(A)\n",
    "    Q = np.identity(n)\n",
    "    for i in range(n-1):\n",
    "        a = R[i][i]\n",
    "        b = R[i+1][i]\n",
    "        r = np.sqrt(np.power(a,2) + np.power(b,2))\n",
    "        c = a/float(r)\n",
    "        s = -b/float(r)\n",
    "        Qk = np.identity(n)\n",
    "        Qk[i][i] = c\n",
    "        Qk[i+1][i] = s\n",
    "        Qk[i][i+1] = -s\n",
    "        Qk[i+1][i+1] = c\n",
    "        if(k==0):\n",
    "            k=1\n",
    "            Q = Qk\n",
    "            R = np.matmul(Qk,R)\n",
    "        else:\n",
    "            \n",
    "            Q = np.matmul(Qk,Q)\n",
    "            R = np.matmul(Qk,R)\n",
    "    return R,Q.T"
   ]
  },
  {
   "cell_type": "code",
   "execution_count": 148,
   "metadata": {},
   "outputs": [
    {
     "name": "stdout",
     "output_type": "stream",
     "text": [
      "**********  R  ******************\n",
      "[[ 2.23606798  1.78885438  0.4472136   0.          0.        ]\n",
      " [ 0.          1.67332005  1.91236577  0.5976143   0.        ]\n",
      " [ 0.          0.          1.46385011  1.95180015  0.68313005]\n",
      " [ 0.         -0.          0.          1.3540064   1.96946386]\n",
      " [ 0.          0.         -0.          0.          0.80903983]]\n",
      "**********  Q  ******************\n",
      "[[ 0.89442719 -0.35856858  0.19518001 -0.12309149  0.13483997]\n",
      " [ 0.4472136   0.71713717 -0.39036003  0.24618298 -0.26967994]\n",
      " [ 0.          0.5976143   0.58554004 -0.36927447  0.40451992]\n",
      " [ 0.          0.          0.68313005  0.49236596 -0.53935989]\n",
      " [ 0.          0.          0.          0.73854895  0.67419986]]\n",
      "**********  QR  ******************\n",
      "[[ 2.  1. -0.  0.  0.]\n",
      " [ 1.  2.  1. -0. -0.]\n",
      " [ 0.  1.  2.  1.  0.]\n",
      " [ 0.  0.  1.  2.  1.]\n",
      " [ 0.  0. -0.  1.  2.]]\n"
     ]
    }
   ],
   "source": [
    "R,Q = givens(B)\n",
    "print(\"**********  R  ******************\")\n",
    "print(R)\n",
    "print(\"**********  Q  ******************\")\n",
    "print(Q)\n",
    "print(\"**********  QR  ******************\")\n",
    "print(np.dot(Q,R))"
   ]
  },
  {
   "cell_type": "markdown",
   "metadata": {},
   "source": [
    "## Questão 3"
   ]
  },
  {
   "cell_type": "markdown",
   "metadata": {},
   "source": [
    "Determine uma base ortonormal para o espaço complementar ortogonal ao vetor $v = [1,-1,1] \\in \\mathbb{R}^{3}.$"
   ]
  },
  {
   "cell_type": "code",
   "execution_count": 233,
   "metadata": {},
   "outputs": [],
   "source": [
    "def norma(v):\n",
    "    return np.sqrt(v[0]**2+v[1]**2+v[2]**2)\n",
    "\n",
    "    \n",
    "def ComplementoOrtonormal(v):\n",
    "    x,y,z = v\n",
    "    if x == 0 and y == 0 and z == 0:\n",
    "        return np.matrix([0,0,0])\n",
    "    \n",
    "    if x != 0:\n",
    "        v1 = np.array([-z/x,0,1])\n",
    "        v2 = np.array([-y/x,1,0])\n",
    "        w1 = v1\n",
    "        w1v2 = np.dot(w1,v2)\n",
    "        w1w1 = (w1[0]**2+w1[1]**2+w1[2]**2)\n",
    "        w2 = v2 - (w1v2/w1w1)*w1\n",
    "    \n",
    "        nw1 = norma(w1)\n",
    "        nw2 = norma(w2)\n",
    "        return w1,w2\n",
    "        \n",
    "    \n",
    "    elif y !=0:\n",
    "        v1 = np.array([1,-x/y,0])\n",
    "        v2 = np.array([0,-z/y,1])\n",
    "        w1 = v1\n",
    "        w1v2 = np.dot(w1,v2)\n",
    "        w1w1 = (w1[0]**2+w1[1]**2+w1[2]**2)\n",
    "        w2 = v2 - (w1v2/w1w1)*w1\n",
    "    \n",
    "        nw1 = norma(w1)\n",
    "        nw2 = norma(w2)\n",
    "        return w1,w2\n",
    "        \n",
    "        \n",
    "    elif z != 0:\n",
    "        v1 = np.array([1,0,x/z])\n",
    "        v2 = np.array([0,1,-y/z])\n",
    "        w1 = v1\n",
    "        w1v2 = np.dot(w1,v2)\n",
    "        w1w1 = (w1[0]**2+w1[1]**2+w1[2]**2)\n",
    "        w2 = v2 - (w1v2/w1w1)*w1\n",
    "    \n",
    "        nw1 = norma(w1)\n",
    "        nw2 = norma(w2)\n",
    "        return w1,w2\n"
   ]
  },
  {
   "cell_type": "code",
   "execution_count": 243,
   "metadata": {
    "scrolled": true
   },
   "outputs": [],
   "source": [
    "v = np.array([1,-1,1])\n",
    "v1 = np.array([1,0,0])\n",
    "v2 = np.array([0,1,0])\n",
    "v3 = np.array([0,0,1])\n",
    "v4 = np.array([1,1,0])\n",
    "v5 = np.array([1,0,1])\n",
    "v6 = np.array([1,1,1])\n",
    "v7 = np.array([1,-1,1])"
   ]
  },
  {
   "cell_type": "code",
   "execution_count": 244,
   "metadata": {},
   "outputs": [
    {
     "data": {
      "text/plain": [
       "(array([0., 0., 1.]), array([0., 1., 0.]))"
      ]
     },
     "execution_count": 244,
     "metadata": {},
     "output_type": "execute_result"
    }
   ],
   "source": [
    "ComplementoOrtonormal(v1)"
   ]
  },
  {
   "cell_type": "code",
   "execution_count": 235,
   "metadata": {},
   "outputs": [
    {
     "data": {
      "text/plain": [
       "(array([1., 0., 0.]), array([0., 0., 1.]))"
      ]
     },
     "execution_count": 235,
     "metadata": {},
     "output_type": "execute_result"
    }
   ],
   "source": [
    "ComplementoOrtonormal(v2)"
   ]
  },
  {
   "cell_type": "code",
   "execution_count": 236,
   "metadata": {},
   "outputs": [
    {
     "data": {
      "text/plain": [
       "(array([1., 0., 0.]), array([0., 1., 0.]))"
      ]
     },
     "execution_count": 236,
     "metadata": {},
     "output_type": "execute_result"
    }
   ],
   "source": [
    "ComplementoOrtonormal(v3)"
   ]
  },
  {
   "cell_type": "code",
   "execution_count": 237,
   "metadata": {},
   "outputs": [
    {
     "data": {
      "text/plain": [
       "(array([0., 0., 1.]), array([-1.,  1.,  0.]))"
      ]
     },
     "execution_count": 237,
     "metadata": {},
     "output_type": "execute_result"
    }
   ],
   "source": [
    "ComplementoOrtonormal(v4)"
   ]
  },
  {
   "cell_type": "code",
   "execution_count": 238,
   "metadata": {},
   "outputs": [
    {
     "data": {
      "text/plain": [
       "(array([-1.,  0.,  1.]), array([0., 1., 0.]))"
      ]
     },
     "execution_count": 238,
     "metadata": {},
     "output_type": "execute_result"
    }
   ],
   "source": [
    "ComplementoOrtonormal(v5)"
   ]
  },
  {
   "cell_type": "code",
   "execution_count": 239,
   "metadata": {},
   "outputs": [
    {
     "data": {
      "text/plain": [
       "(array([-1.,  0.,  1.]), array([-0.5,  1. , -0.5]))"
      ]
     },
     "execution_count": 239,
     "metadata": {},
     "output_type": "execute_result"
    }
   ],
   "source": [
    "ComplementoOrtonormal(v6)"
   ]
  },
  {
   "cell_type": "code",
   "execution_count": 242,
   "metadata": {},
   "outputs": [
    {
     "data": {
      "text/plain": [
       "(array([-1.,  0.,  1.]), array([0.5, 1. , 0.5]))"
      ]
     },
     "execution_count": 242,
     "metadata": {},
     "output_type": "execute_result"
    }
   ],
   "source": [
    "ComplementoOrtonormal(v7)"
   ]
  },
  {
   "cell_type": "markdown",
   "metadata": {},
   "source": [
    "## Questão 4"
   ]
  },
  {
   "cell_type": "markdown",
   "metadata": {},
   "source": [
    "Suponha que uma matriz $A \\in \\mathbb{R}^{mxn}$ tenha posto máximo. A pseudoinversa, ou inversa de Moore-Penrose, de $A$ é a matriz $A^{+} \\in \\mathbb{R}^{nxm}$ que satisfaz:"
   ]
  },
  {
   "cell_type": "markdown",
   "metadata": {},
   "source": [
    "<ul>\n",
    "  <li>$AA^{+}A = A$</li>\n",
    "  <li>$A^{+}AA^{+} = A^{+}$</li>\n",
    "  <li>$(AA^{+})^{T} = AA^{+}$</li>\n",
    "  <li>$(A^{+}A)^{T} = A^{+}A$</li>\n",
    "</ul>"
   ]
  },
  {
   "cell_type": "markdown",
   "metadata": {},
   "source": [
    "Calcule a pseudoinversa de"
   ]
  },
  {
   "cell_type": "markdown",
   "metadata": {},
   "source": [
    "$\n",
    "A = \\left[\n",
    "\\begin{array}{cc}\n",
    "1 & 0 \\\\\n",
    "0 & 1 \\\\\n",
    "0 & 1\\\\\n",
    "\\end{array}\n",
    "\\right]\n",
    "$"
   ]
  },
  {
   "cell_type": "code",
   "execution_count": 149,
   "metadata": {},
   "outputs": [],
   "source": [
    "#def VerifyProperties(A):\n",
    "#    A_pseudo = Pseudoinverse(A)\n",
    "#    cond1 = np.dot(np.dot(A,A_pseudo),A)                # AA+A  == A \n",
    "#    cond2 = np.dot(np.dot(A_pseudo,A),A_pseudo)         # A+AA+ == A+\n",
    "#    \n",
    "#    aux = np.dot(A,A_pseudo)                            # (AA+) == AA+ \n",
    "#    cond3 = aux.T\n",
    "#    \n",
    "#    aux2 = np.dot(A_pseudo,A)\n",
    "#    cond4 = aux2.T                                      # (A+A) == A+A\n",
    "#    \n",
    "#    if np.matrix.all(cond1 == A):\n",
    "#        if np.matrix.all(cond2 == A_pseudo):\n",
    "#            if np.matrix.all(cond3 == np.dot(A,A_pseudo)):\n",
    "#                if np.matrix.all(cond4 == np.dot(A_pseudo,A)):\n",
    "#                    return True\n",
    "#                else:\n",
    "#                    print(\"Parou na condição 4\")\n",
    "#                    return False\n",
    "#            else:\n",
    "#                print(\"Parou na condição 3\")\n",
    "#                return False\n",
    "#        else:\n",
    "#            print(\"Parou na condição 2\")\n",
    "#            return False\n",
    "#    else:\n",
    "#        print(\"Parou na condição 1\")\n",
    "#        return False"
   ]
  },
  {
   "cell_type": "code",
   "execution_count": 150,
   "metadata": {},
   "outputs": [],
   "source": [
    "def Pseudoinverse(A):\n",
    "    At = np.transpose(A)\n",
    "    AtA = np.dot(At,A)\n",
    "    AtA_inv = np.linalg.inv(AtA)\n",
    "    Pi = np.dot(AtA_inv,At)\n",
    "    return Pi\n",
    "    \n",
    "    \n",
    "A = np.matrix([[1,0],[0,1],[0,1]])\n",
    "B = np.matrix([[2,-1,0],[4,3,-2]])"
   ]
  },
  {
   "cell_type": "code",
   "execution_count": 151,
   "metadata": {},
   "outputs": [
    {
     "name": "stdout",
     "output_type": "stream",
     "text": [
      "[[1.  0.  0. ]\n",
      " [0.  0.5 0.5]]\n",
      "\n",
      "\n",
      "[[ 0.125  0.5  ]\n",
      " [-0.75   0.   ]\n",
      " [-1.     0.   ]]\n"
     ]
    }
   ],
   "source": [
    "print(Pseudoinverse(A))\n",
    "print(\"\\n\")\n",
    "print(Pseudoinverse(B))"
   ]
  },
  {
   "cell_type": "code",
   "execution_count": 152,
   "metadata": {},
   "outputs": [
    {
     "name": "stdout",
     "output_type": "stream",
     "text": [
      "[[7 2]\n",
      " [3 4]\n",
      " [5 3]]\n"
     ]
    }
   ],
   "source": [
    "C = np.matrix([[7,2],[3,4],[5,3]])\n",
    "print(C)"
   ]
  },
  {
   "cell_type": "code",
   "execution_count": 153,
   "metadata": {},
   "outputs": [
    {
     "data": {
      "text/plain": [
       "matrix([[ 0.16666667, -0.10606061,  0.03030303],\n",
       "        [-0.16666667,  0.28787879,  0.06060606]])"
      ]
     },
     "execution_count": 153,
     "metadata": {},
     "output_type": "execute_result"
    }
   ],
   "source": [
    "Pseudoinverse(C)"
   ]
  },
  {
   "cell_type": "code",
   "execution_count": 154,
   "metadata": {},
   "outputs": [
    {
     "name": "stdout",
     "output_type": "stream",
     "text": [
      "[[ 2 -1  0]\n",
      " [ 4  3 -2]]\n",
      "[[ 6.    2.   -2.  ]\n",
      " [ 8.5   5.75 -4.  ]]\n"
     ]
    }
   ],
   "source": [
    "D = np.matrix([[2,-1,0],[4,3,-2]])\n",
    "\n",
    "print(D)\n",
    "cond1 = np.dot(np.dot(D,Pseudoinverse(D)),D) \n",
    "print(cond1)\n"
   ]
  },
  {
   "cell_type": "code",
   "execution_count": 155,
   "metadata": {},
   "outputs": [
    {
     "data": {
      "text/plain": [
       "matrix([[ 0.125,  0.5  ],\n",
       "        [-0.75 ,  0.   ],\n",
       "        [-1.   ,  0.   ]])"
      ]
     },
     "execution_count": 155,
     "metadata": {},
     "output_type": "execute_result"
    }
   ],
   "source": [
    "Pseudoinverse(D)"
   ]
  },
  {
   "cell_type": "code",
   "execution_count": 156,
   "metadata": {},
   "outputs": [
    {
     "name": "stdout",
     "output_type": "stream",
     "text": [
      "[[ 0.31666667  0.08333333]\n",
      " [-0.36666667  0.16666667]\n",
      " [ 0.08333333 -0.08333333]]\n"
     ]
    }
   ],
   "source": [
    "G = np.linalg.pinv(D)\n",
    "print(G)"
   ]
  }
 ],
 "metadata": {
  "kernelspec": {
   "display_name": "Python 3",
   "language": "python",
   "name": "python3"
  },
  "language_info": {
   "codemirror_mode": {
    "name": "ipython",
    "version": 3
   },
   "file_extension": ".py",
   "mimetype": "text/x-python",
   "name": "python",
   "nbconvert_exporter": "python",
   "pygments_lexer": "ipython3",
   "version": "3.6.6"
  }
 },
 "nbformat": 4,
 "nbformat_minor": 2
}
